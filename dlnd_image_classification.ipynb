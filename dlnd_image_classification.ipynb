{
 "cells": [
  {
   "cell_type": "markdown",
   "metadata": {
    "collapsed": true
   },
   "source": [
    "# Image Classification\n",
    "In this project, you'll classify images from the [CIFAR-10 dataset](https://www.cs.toronto.edu/~kriz/cifar.html).  The dataset consists of airplanes, dogs, cats, and other objects. You'll preprocess the images, then train a convolutional neural network on all the samples. The images need to be normalized and the labels need to be one-hot encoded.  You'll get to apply what you learned and build a convolutional, max pooling, dropout, and fully connected layers.  At the end, you'll get to see your neural network's predictions on the sample images.\n",
    "## Get the Data\n",
    "Run the following cell to download the [CIFAR-10 dataset for python](https://www.cs.toronto.edu/~kriz/cifar-10-python.tar.gz)."
   ]
  },
  {
   "cell_type": "code",
   "execution_count": null,
   "metadata": {},
   "outputs": [],
   "source": [
    "\"\"\"\n",
    "DON'T MODIFY ANYTHING IN THIS CELL THAT IS BELOW THIS LINE\n",
    "\"\"\"\n",
    "from urllib.request import urlretrieve\n",
    "from os.path import isfile, isdir\n",
    "from tqdm import tqdm\n",
    "import problem_unittests as tests\n",
    "import tarfile\n",
    "\n",
    "cifar10_dataset_folder_path = 'cifar-10-batches-py'\n",
    "\n",
    "# Use Floyd's cifar-10 dataset if present\n",
    "floyd_cifar10_location = '/input/cifar-10/python.tar.gz'\n",
    "if isfile(floyd_cifar10_location):\n",
    "    tar_gz_path = floyd_cifar10_location\n",
    "else:\n",
    "    tar_gz_path = 'cifar-10-python.tar.gz'\n",
    "\n",
    "class DLProgress(tqdm):\n",
    "    last_block = 0\n",
    "\n",
    "    def hook(self, block_num=1, block_size=1, total_size=None):\n",
    "        self.total = total_size\n",
    "        self.update((block_num - self.last_block) * block_size)\n",
    "        self.last_block = block_num\n",
    "\n",
    "if not isfile(tar_gz_path):\n",
    "    with DLProgress(unit='B', unit_scale=True, miniters=1, desc='CIFAR-10 Dataset') as pbar:\n",
    "        urlretrieve(\n",
    "            'https://www.cs.toronto.edu/~kriz/cifar-10-python.tar.gz',\n",
    "            tar_gz_path,\n",
    "            pbar.hook)\n",
    "\n",
    "if not isdir(cifar10_dataset_folder_path):\n",
    "    with tarfile.open(tar_gz_path) as tar:\n",
    "        tar.extractall()\n",
    "        tar.close()\n",
    "\n",
    "\n",
    "tests.test_folder_path(cifar10_dataset_folder_path)"
   ]
  },
  {
   "cell_type": "markdown",
   "metadata": {},
   "source": [
    "## Explore the Data\n",
    "The dataset is broken into batches to prevent your machine from running out of memory.  The CIFAR-10 dataset consists of 5 batches, named `data_batch_1`, `data_batch_2`, etc.. Each batch contains the labels and images that are one of the following:\n",
    "* airplane\n",
    "* automobile\n",
    "* bird\n",
    "* cat\n",
    "* deer\n",
    "* dog\n",
    "* frog\n",
    "* horse\n",
    "* ship\n",
    "* truck\n",
    "\n",
    "Understanding a dataset is part of making predictions on the data.  Play around with the code cell below by changing the `batch_id` and `sample_id`. The `batch_id` is the id for a batch (1-5). The `sample_id` is the id for a image and label pair in the batch.\n",
    "\n",
    "Ask yourself \"What are all possible labels?\", \"What is the range of values for the image data?\", \"Are the labels in order or random?\".  Answers to questions like these will help you preprocess the data and end up with better predictions."
   ]
  },
  {
   "cell_type": "code",
   "execution_count": null,
   "metadata": {},
   "outputs": [],
   "source": [
    "%matplotlib inline\n",
    "%config InlineBackend.figure_format = 'retina'\n",
    "\n",
    "import helper\n",
    "import numpy as np\n",
    "\n",
    "# Explore the dataset\n",
    "batch_id = 1\n",
    "sample_id = 5\n",
    "helper.display_stats(cifar10_dataset_folder_path, batch_id, sample_id)"
   ]
  },
  {
   "cell_type": "markdown",
   "metadata": {},
   "source": [
    "## Implement Preprocess Functions\n",
    "### Normalize\n",
    "In the cell below, implement the `normalize` function to take in image data, `x`, and return it as a normalized Numpy array. The values should be in the range of 0 to 1, inclusive.  The return object should be the same shape as `x`."
   ]
  },
  {
   "cell_type": "code",
   "execution_count": null,
   "metadata": {},
   "outputs": [],
   "source": [
    "def normalize(x):\n",
    "    \"\"\"\n",
    "    Normalize a list of sample image data in the range of 0 to 1\n",
    "    : x: List of image data.  The image shape is (32, 32, 3)\n",
    "    : return: Numpy array of normalize data\n",
    "    \"\"\"\n",
    "    a = 0\n",
    "    b = 1\n",
    "    minimum = 0\n",
    "    maximum = 255\n",
    "    return a + ( ( (x - minimum)*(b - a) )/( maximum - minimum ) )\n",
    "\n",
    "\n",
    "\n",
    "\n",
    "\"\"\"\n",
    "DON'T MODIFY ANYTHING IN THIS CELL THAT IS BELOW THIS LINE\n",
    "\"\"\"\n",
    "tests.test_normalize(normalize)"
   ]
  },
  {
   "cell_type": "markdown",
   "metadata": {},
   "source": [
    "### One-hot encode\n",
    "Just like the previous code cell, you'll be implementing a function for preprocessing.  This time, you'll implement the `one_hot_encode` function. The input, `x`, are a list of labels.  Implement the function to return the list of labels as One-Hot encoded Numpy array.  The possible values for labels are 0 to 9. The one-hot encoding function should return the same encoding for each value between each call to `one_hot_encode`.  Make sure to save the map of encodings outside the function.\n",
    "\n",
    "Hint: Don't reinvent the wheel."
   ]
  },
  {
   "cell_type": "code",
   "execution_count": null,
   "metadata": {},
   "outputs": [],
   "source": [
    "from pandas import DataFrame\n",
    "from sklearn import preprocessing\n",
    "\n",
    "def one_hot_encode(x):\n",
    "    \"\"\"\n",
    "    One hot encode a list of sample labels. Return a one-hot encoded vector for each label.\n",
    "    : x: List of sample Labels\n",
    "    : return: Numpy array of one-hot encoded labels\n",
    "    \"\"\"\n",
    "    encoder = preprocessing.OneHotEncoder(n_values=10)\n",
    "    labels_df = encoder.fit_transform(DataFrame(x))\n",
    "    \n",
    "    return labels_df.toarray()\n",
    "\n",
    "\n",
    "\"\"\"\n",
    "DON'T MODIFY ANYTHING IN THIS CELL THAT IS BELOW THIS LINE\n",
    "\"\"\"\n",
    "tests.test_one_hot_encode(one_hot_encode)"
   ]
  },
  {
   "cell_type": "markdown",
   "metadata": {},
   "source": [
    "### Randomize Data\n",
    "As you saw from exploring the data above, the order of the samples are randomized.  It doesn't hurt to randomize it again, but you don't need to for this dataset."
   ]
  },
  {
   "cell_type": "markdown",
   "metadata": {},
   "source": [
    "## Preprocess all the data and save it\n",
    "Running the code cell below will preprocess all the CIFAR-10 data and save it to file. The code below also uses 10% of the training data for validation."
   ]
  },
  {
   "cell_type": "code",
   "execution_count": null,
   "metadata": {},
   "outputs": [],
   "source": [
    "\"\"\"\n",
    "DON'T MODIFY ANYTHING IN THIS CELL\n",
    "\"\"\"\n",
    "# Preprocess Training, Validation, and Testing Data\n",
    "helper.preprocess_and_save_data(cifar10_dataset_folder_path, normalize, one_hot_encode)"
   ]
  },
  {
   "cell_type": "markdown",
   "metadata": {},
   "source": [
    "# Check Point\n",
    "This is your first checkpoint.  If you ever decide to come back to this notebook or have to restart the notebook, you can start from here.  The preprocessed data has been saved to disk."
   ]
  },
  {
   "cell_type": "code",
   "execution_count": 1,
   "metadata": {
    "collapsed": true
   },
   "outputs": [],
   "source": [
    "\"\"\"\n",
    "DON'T MODIFY ANYTHING IN THIS CELL\n",
    "\"\"\"\n",
    "import pickle\n",
    "import problem_unittests as tests\n",
    "import helper\n",
    "\n",
    "# Load the Preprocessed Validation data\n",
    "valid_features, valid_labels = pickle.load(open('preprocess_validation.p', mode='rb'))"
   ]
  },
  {
   "cell_type": "markdown",
   "metadata": {},
   "source": [
    "## Build the network\n",
    "For the neural network, you'll build each layer into a function.  Most of the code you've seen has been outside of functions. To test your code more thoroughly, we require that you put each layer in a function.  This allows us to give you better feedback and test for simple mistakes using our unittests before you submit your project.\n",
    "\n",
    ">**Note:** If you're finding it hard to dedicate enough time for this course each week, we've provided a small shortcut to this part of the project. In the next couple of problems, you'll have the option to use classes from the [TensorFlow Layers](https://www.tensorflow.org/api_docs/python/tf/layers) or [TensorFlow Layers (contrib)](https://www.tensorflow.org/api_guides/python/contrib.layers) packages to build each layer, except the layers you build in the \"Convolutional and Max Pooling Layer\" section.  TF Layers is similar to Keras's and TFLearn's abstraction to layers, so it's easy to pickup.\n",
    "\n",
    ">However, if you would like to get the most out of this course, try to solve all the problems _without_ using anything from the TF Layers packages. You **can** still use classes from other packages that happen to have the same name as ones you find in TF Layers! For example, instead of using the TF Layers version of the `conv2d` class, [tf.layers.conv2d](https://www.tensorflow.org/api_docs/python/tf/layers/conv2d), you would want to use the TF Neural Network version of `conv2d`, [tf.nn.conv2d](https://www.tensorflow.org/api_docs/python/tf/nn/conv2d). \n",
    "\n",
    "Let's begin!\n",
    "\n",
    "### Input\n",
    "The neural network needs to read the image data, one-hot encoded labels, and dropout keep probability. Implement the following functions\n",
    "* Implement `neural_net_image_input`\n",
    " * Return a [TF Placeholder](https://www.tensorflow.org/api_docs/python/tf/placeholder)\n",
    " * Set the shape using `image_shape` with batch size set to `None`.\n",
    " * Name the TensorFlow placeholder \"x\" using the TensorFlow `name` parameter in the [TF Placeholder](https://www.tensorflow.org/api_docs/python/tf/placeholder).\n",
    "* Implement `neural_net_label_input`\n",
    " * Return a [TF Placeholder](https://www.tensorflow.org/api_docs/python/tf/placeholder)\n",
    " * Set the shape using `n_classes` with batch size set to `None`.\n",
    " * Name the TensorFlow placeholder \"y\" using the TensorFlow `name` parameter in the [TF Placeholder](https://www.tensorflow.org/api_docs/python/tf/placeholder).\n",
    "* Implement `neural_net_keep_prob_input`\n",
    " * Return a [TF Placeholder](https://www.tensorflow.org/api_docs/python/tf/placeholder) for dropout keep probability.\n",
    " * Name the TensorFlow placeholder \"keep_prob\" using the TensorFlow `name` parameter in the [TF Placeholder](https://www.tensorflow.org/api_docs/python/tf/placeholder).\n",
    "\n",
    "These names will be used at the end of the project to load your saved model.\n",
    "\n",
    "Note: `None` for shapes in TensorFlow allow for a dynamic size."
   ]
  },
  {
   "cell_type": "code",
   "execution_count": 2,
   "metadata": {},
   "outputs": [
    {
     "name": "stdout",
     "output_type": "stream",
     "text": [
      "Image Input Tests Passed.\n",
      "Label Input Tests Passed.\n",
      "Keep Prob Tests Passed.\n"
     ]
    }
   ],
   "source": [
    "import tensorflow as tf\n",
    "\n",
    "def neural_net_image_input(image_shape):\n",
    "    \"\"\"\n",
    "    Return a Tensor for a batch of image input\n",
    "    : image_shape: Shape of the images\n",
    "    : return: Tensor for image input.\n",
    "    \"\"\"\n",
    "    # TODO: Implement Function\n",
    "    return tf.placeholder(tf.float32, shape=[None] + list(image_shape), name=\"x\")\n",
    "\n",
    "\n",
    "def neural_net_label_input(n_classes):\n",
    "    \"\"\"\n",
    "    Return a Tensor for a batch of label input\n",
    "    : n_classes: Number of classes\n",
    "    : return: Tensor for label input.\n",
    "    \"\"\"\n",
    "    # TODO: Implement Function\n",
    "    return tf.placeholder(tf.float32, shape=[None, n_classes], name=\"y\")\n",
    "\n",
    "\n",
    "def neural_net_keep_prob_input():\n",
    "    \"\"\"\n",
    "    Return a Tensor for keep probability\n",
    "    : return: Tensor for keep probability.\n",
    "    \"\"\"\n",
    "    # TODO: Implement Function\n",
    "    return tf.placeholder(tf.float32, name=\"keep_prob\")\n",
    "\n",
    "\n",
    "\"\"\"\n",
    "DON'T MODIFY ANYTHING IN THIS CELL THAT IS BELOW THIS LINE\n",
    "\"\"\"\n",
    "tf.reset_default_graph()\n",
    "tests.test_nn_image_inputs(neural_net_image_input)\n",
    "tests.test_nn_label_inputs(neural_net_label_input)\n",
    "tests.test_nn_keep_prob_inputs(neural_net_keep_prob_input)"
   ]
  },
  {
   "cell_type": "markdown",
   "metadata": {},
   "source": [
    "### Convolution and Max Pooling Layer\n",
    "Convolution layers have a lot of success with images. For this code cell, you should implement the function `conv2d_maxpool` to apply convolution then max pooling:\n",
    "* Create the weight and bias using `conv_ksize`, `conv_num_outputs` and the shape of `x_tensor`.\n",
    "* Apply a convolution to `x_tensor` using weight and `conv_strides`.\n",
    " * We recommend you use same padding, but you're welcome to use any padding.\n",
    "* Add bias\n",
    "* Add a nonlinear activation to the convolution.\n",
    "* Apply Max Pooling using `pool_ksize` and `pool_strides`.\n",
    " * We recommend you use same padding, but you're welcome to use any padding.\n",
    "\n",
    "**Note:** You **can't** use [TensorFlow Layers](https://www.tensorflow.org/api_docs/python/tf/layers) or [TensorFlow Layers (contrib)](https://www.tensorflow.org/api_guides/python/contrib.layers) for **this** layer, but you can still use TensorFlow's [Neural Network](https://www.tensorflow.org/api_docs/python/tf/nn) package. You may still use the shortcut option for all the **other** layers."
   ]
  },
  {
   "cell_type": "code",
   "execution_count": 3,
   "metadata": {},
   "outputs": [
    {
     "name": "stdout",
     "output_type": "stream",
     "text": [
      "Tests Passed\n"
     ]
    }
   ],
   "source": [
    "def conv2d_maxpool(x_tensor, conv_num_outputs, conv_ksize, conv_strides, pool_ksize, pool_strides):\n",
    "    \"\"\"\n",
    "    Apply convolution then max pooling to x_tensor\n",
    "    :param x_tensor: TensorFlow Tensor\n",
    "    :param conv_num_outputs: Number of outputs for the convolutional layer\n",
    "    :param conv_ksize: kernal size 2-D Tuple for the convolutional layer\n",
    "    :param conv_strides: Stride 2-D Tuple for convolution\n",
    "    :param pool_ksize: kernal size 2-D Tuple for pool\n",
    "    :param pool_strides: Stride 2-D Tuple for pool\n",
    "    : return: A tensor that represents convolution and max pooling of x_tensor\n",
    "    \"\"\"\n",
    "    input_channel_depth = int(x_tensor.get_shape()[3])\n",
    "    \n",
    "    filter_weights = tf.Variable(tf.truncated_normal([*conv_ksize, input_channel_depth, conv_num_outputs], dtype=tf.float32))\n",
    "    filter_biases = tf.Variable(tf.constant(0, shape=[conv_num_outputs], dtype=tf.float32))\n",
    "    \n",
    "    layer = tf.nn.conv2d(input = x_tensor, filter = filter_weights, strides=[1, *conv_strides, 1], padding = 'SAME')\n",
    "    layer += filter_biases\n",
    "    layer = tf.nn.max_pool(layer, [1, *pool_ksize, 1], strides=[1, *pool_strides, 1], padding = 'SAME')\n",
    "    \n",
    "    return layer\n",
    "\n",
    "\n",
    "\"\"\"\n",
    "DON'T MODIFY ANYTHING IN THIS CELL THAT IS BELOW THIS LINE\n",
    "\"\"\"\n",
    "tests.test_con_pool(conv2d_maxpool)"
   ]
  },
  {
   "cell_type": "markdown",
   "metadata": {},
   "source": [
    "### Flatten Layer\n",
    "Implement the `flatten` function to change the dimension of `x_tensor` from a 4-D tensor to a 2-D tensor.  The output should be the shape (*Batch Size*, *Flattened Image Size*). Shortcut option: you can use classes from the [TensorFlow Layers](https://www.tensorflow.org/api_docs/python/tf/layers) or [TensorFlow Layers (contrib)](https://www.tensorflow.org/api_guides/python/contrib.layers) packages for this layer. For more of a challenge, only use other TensorFlow packages."
   ]
  },
  {
   "cell_type": "code",
   "execution_count": 4,
   "metadata": {},
   "outputs": [
    {
     "name": "stdout",
     "output_type": "stream",
     "text": [
      "Tests Passed\n"
     ]
    }
   ],
   "source": [
    "def flatten(x_tensor):\n",
    "    \"\"\"\n",
    "    Flatten x_tensor to (Batch Size, Flattened Image Size)\n",
    "    : x_tensor: A tensor of size (Batch Size, ...), where ... are the image dimensions.\n",
    "    : return: A tensor of size (Batch Size, Flattened Image Size).\n",
    "    \"\"\"\n",
    "    return tf.contrib.layers.flatten(x_tensor)\n",
    "\n",
    "\n",
    "\"\"\"\n",
    "DON'T MODIFY ANYTHING IN THIS CELL THAT IS BELOW THIS LINE\n",
    "\"\"\"\n",
    "tests.test_flatten(flatten)"
   ]
  },
  {
   "cell_type": "markdown",
   "metadata": {},
   "source": [
    "### Fully-Connected Layer\n",
    "Implement the `fully_conn` function to apply a fully connected layer to `x_tensor` with the shape (*Batch Size*, *num_outputs*). Shortcut option: you can use classes from the [TensorFlow Layers](https://www.tensorflow.org/api_docs/python/tf/layers) or [TensorFlow Layers (contrib)](https://www.tensorflow.org/api_guides/python/contrib.layers) packages for this layer. For more of a challenge, only use other TensorFlow packages."
   ]
  },
  {
   "cell_type": "code",
   "execution_count": 5,
   "metadata": {},
   "outputs": [
    {
     "name": "stdout",
     "output_type": "stream",
     "text": [
      "Tests Passed\n"
     ]
    }
   ],
   "source": [
    "def fully_conn(x_tensor, num_outputs):\n",
    "    \"\"\"\n",
    "    Apply a fully connected layer to x_tensor using weight and bias\n",
    "    : x_tensor: A 2-D tensor where the first dimension is batch size.\n",
    "    : num_outputs: The number of output that the new tensor should be.\n",
    "    : return: A 2-D tensor where the second dimension is num_outputs.\n",
    "    \"\"\"\n",
    "    batch_size = x_tensor.get_shape().as_list()[1]\n",
    "    weight = tf.Variable (tf.random_normal([batch_size, num_outputs], mean = 0.0, stddev = 0.01))\n",
    "    bias = tf.Variable (tf.zeros(num_outputs))\n",
    "\n",
    "    fully_conv_layer = tf.add (tf.matmul (x_tensor, weight), bias)\n",
    "    \n",
    "    return tf.nn.relu (fully_conv_layer)\n",
    "\n",
    "\n",
    "\"\"\"\n",
    "DON'T MODIFY ANYTHING IN THIS CELL THAT IS BELOW THIS LINE\n",
    "\"\"\"\n",
    "tests.test_fully_conn(fully_conn)"
   ]
  },
  {
   "cell_type": "markdown",
   "metadata": {},
   "source": [
    "### Output Layer\n",
    "Implement the `output` function to apply a fully connected layer to `x_tensor` with the shape (*Batch Size*, *num_outputs*). Shortcut option: you can use classes from the [TensorFlow Layers](https://www.tensorflow.org/api_docs/python/tf/layers) or [TensorFlow Layers (contrib)](https://www.tensorflow.org/api_guides/python/contrib.layers) packages for this layer. For more of a challenge, only use other TensorFlow packages.\n",
    "\n",
    "**Note:** Activation, softmax, or cross entropy should **not** be applied to this."
   ]
  },
  {
   "cell_type": "code",
   "execution_count": 6,
   "metadata": {},
   "outputs": [
    {
     "name": "stdout",
     "output_type": "stream",
     "text": [
      "Tests Passed\n"
     ]
    }
   ],
   "source": [
    "def output(x_tensor, num_outputs):\n",
    "    \"\"\"\n",
    "    Apply a output layer to x_tensor using weight and bias\n",
    "    : x_tensor: A 2-D tensor where the first dimension is batch size.\n",
    "    : num_outputs: The number of output that the new tensor should be.\n",
    "    : return: A 2-D tensor where the second dimension is num_outputs.\n",
    "    \"\"\"\n",
    "    batch_size = x_tensor.get_shape().as_list()[1]\n",
    "    weight = tf.Variable (tf.random_normal([batch_size, num_outputs], mean = 0.0, stddev = 0.01))\n",
    "    bias = tf.Variable (tf.zeros(num_outputs))\n",
    "    \n",
    "    return tf.add (tf.matmul (x_tensor, weight), bias)\n",
    "\n",
    "\n",
    "\"\"\"\n",
    "DON'T MODIFY ANYTHING IN THIS CELL THAT IS BELOW THIS LINE\n",
    "\"\"\"\n",
    "tests.test_output(output)"
   ]
  },
  {
   "cell_type": "markdown",
   "metadata": {},
   "source": [
    "### Create Convolutional Model\n",
    "Implement the function `conv_net` to create a convolutional neural network model. The function takes in a batch of images, `x`, and outputs logits.  Use the layers you created above to create this model:\n",
    "\n",
    "* Apply 1, 2, or 3 Convolution and Max Pool layers\n",
    "* Apply a Flatten Layer\n",
    "* Apply 1, 2, or 3 Fully Connected Layers\n",
    "* Apply an Output Layer\n",
    "* Return the output\n",
    "* Apply [TensorFlow's Dropout](https://www.tensorflow.org/api_docs/python/tf/nn/dropout) to one or more layers in the model using `keep_prob`. "
   ]
  },
  {
   "cell_type": "code",
   "execution_count": 7,
   "metadata": {},
   "outputs": [
    {
     "name": "stdout",
     "output_type": "stream",
     "text": [
      "Neural Network Built!\n"
     ]
    }
   ],
   "source": [
    "def conv_net(x, keep_prob):\n",
    "    \"\"\"\n",
    "    Create a convolutional neural network model\n",
    "    : x: Placeholder tensor that holds image data.\n",
    "    : keep_prob: Placeholder tensor that hold dropout keep probability.\n",
    "    : return: Tensor that represents logits\n",
    "    \"\"\"\n",
    "    x_tensor = x\n",
    "    conv_ksize = (4,4)\n",
    "    conv_strides = (2,2)\n",
    "    pool_ksize = (4,4)\n",
    "    pool_strides = (2,2)\n",
    "\n",
    "    conv_num_outputs = 32\n",
    "    num_outputs = 500\n",
    "\n",
    "    conv2d_maxpool_layer = conv2d_maxpool(x_tensor, 32, conv_ksize, conv_strides, pool_ksize, pool_strides)\n",
    "    conv2d_maxpool_layer = tf.nn.dropout(conv2d_maxpool_layer, tf.to_float(keep_prob))\n",
    "\n",
    "    flattened_layer = flatten(conv2d_maxpool_layer)\n",
    "\n",
    "    fully_conn_layer = fully_conn(flattened_layer, 500)\n",
    "    fully_conn_layer = tf.nn.dropout(fully_conn_layer, tf.to_float(keep_prob))\n",
    "\n",
    "    output_layer = output(fully_conn_layer, 10)\n",
    "\n",
    "    return output_layer\n",
    "\n",
    "\n",
    "\n",
    "\n",
    "\n",
    "\"\"\"\n",
    "DON'T MODIFY ANYTHING IN THIS CELL THAT IS BELOW THIS LINE\n",
    "\"\"\"\n",
    "\n",
    "##############################\n",
    "## Build the Neural Network ##\n",
    "##############################\n",
    "\n",
    "# Remove previous weights, bias, inputs, etc..\n",
    "tf.reset_default_graph()\n",
    "\n",
    "# Inputs\n",
    "x = neural_net_image_input((32, 32, 3))\n",
    "y = neural_net_label_input(10)\n",
    "keep_prob = neural_net_keep_prob_input()\n",
    "\n",
    "# Model\n",
    "logits = conv_net(x, keep_prob)\n",
    "\n",
    "# Name logits Tensor, so that is can be loaded from disk after training\n",
    "logits = tf.identity(logits, name='logits')\n",
    "\n",
    "# Loss and Optimizer\n",
    "cost = tf.reduce_mean(tf.nn.softmax_cross_entropy_with_logits(logits=logits, labels=y))\n",
    "optimizer = tf.train.AdamOptimizer().minimize(cost)\n",
    "\n",
    "# Accuracy\n",
    "correct_pred = tf.equal(tf.argmax(logits, 1), tf.argmax(y, 1))\n",
    "accuracy = tf.reduce_mean(tf.cast(correct_pred, tf.float32), name='accuracy')\n",
    "\n",
    "tests.test_conv_net(conv_net)"
   ]
  },
  {
   "cell_type": "markdown",
   "metadata": {},
   "source": [
    "## Train the Neural Network\n",
    "### Single Optimization\n",
    "Implement the function `train_neural_network` to do a single optimization.  The optimization should use `optimizer` to optimize in `session` with a `feed_dict` of the following:\n",
    "* `x` for image input\n",
    "* `y` for labels\n",
    "* `keep_prob` for keep probability for dropout\n",
    "\n",
    "This function will be called for each batch, so `tf.global_variables_initializer()` has already been called.\n",
    "\n",
    "Note: Nothing needs to be returned. This function is only optimizing the neural network."
   ]
  },
  {
   "cell_type": "code",
   "execution_count": 8,
   "metadata": {},
   "outputs": [
    {
     "name": "stdout",
     "output_type": "stream",
     "text": [
      "Tests Passed\n"
     ]
    }
   ],
   "source": [
    "def train_neural_network(session, optimizer, keep_probability, feature_batch, label_batch):\n",
    "    \"\"\"\n",
    "    Optimize the session on a batch of images and labels\n",
    "    : session: Current TensorFlow session\n",
    "    : optimizer: TensorFlow optimizer function\n",
    "    : keep_probability: keep probability\n",
    "    : feature_batch: Batch of Numpy image data\n",
    "    : label_batch: Batch of Numpy label data\n",
    "    \"\"\"\n",
    "    session.run(optimizer, feed_dict={x: feature_batch, y: label_batch, keep_prob: keep_probability})\n",
    "\n",
    "\n",
    "\"\"\"\n",
    "DON'T MODIFY ANYTHING IN THIS CELL THAT IS BELOW THIS LINE\n",
    "\"\"\"\n",
    "tests.test_train_nn(train_neural_network)"
   ]
  },
  {
   "cell_type": "markdown",
   "metadata": {},
   "source": [
    "### Show Stats\n",
    "Implement the function `print_stats` to print loss and validation accuracy.  Use the global variables `valid_features` and `valid_labels` to calculate validation accuracy.  Use a keep probability of `1.0` to calculate the loss and validation accuracy."
   ]
  },
  {
   "cell_type": "code",
   "execution_count": 9,
   "metadata": {},
   "outputs": [],
   "source": [
    "def print_stats(session, feature_batch, label_batch, cost, accuracy):\n",
    "    \"\"\"\n",
    "    Print information about loss and validation accuracy\n",
    "    : session: Current TensorFlow session\n",
    "    : feature_batch: Batch of Numpy image data\n",
    "    : label_batch: Batch of Numpy label data\n",
    "    : cost: TensorFlow cost function\n",
    "    : accuracy: TensorFlow accuracy function\n",
    "    \"\"\"\n",
    "    loss = session.run(cost, feed_dict={x: feature_batch, y: label_batch, keep_prob: 1.0})\n",
    "    valid_acc = session.run(accuracy,feed_dict={x:valid_features, y:valid_labels, keep_prob:1.0})\n",
    "    \n",
    "    print('Loss at {}'.format(loss), 'Validation Accuracy at {}'.format(valid_acc))"
   ]
  },
  {
   "cell_type": "markdown",
   "metadata": {},
   "source": [
    "### Hyperparameters\n",
    "Tune the following parameters:\n",
    "* Set `epochs` to the number of iterations until the network stops learning or start overfitting\n",
    "* Set `batch_size` to the highest number that your machine has memory for.  Most people set them to common sizes of memory:\n",
    " * 64\n",
    " * 128\n",
    " * 256\n",
    " * ...\n",
    "* Set `keep_probability` to the probability of keeping a node using dropout"
   ]
  },
  {
   "cell_type": "code",
   "execution_count": 10,
   "metadata": {
    "collapsed": true
   },
   "outputs": [],
   "source": [
    "# TODO: Tune Parameters\n",
    "epochs = 20\n",
    "batch_size = 1024\n",
    "keep_probability = 0.7\n",
    "\n"
   ]
  },
  {
   "cell_type": "markdown",
   "metadata": {},
   "source": [
    "### Train on a Single CIFAR-10 Batch\n",
    "Instead of training the neural network on all the CIFAR-10 batches of data, let's use a single batch. This should save time while you iterate on the model to get a better accuracy.  Once the final validation accuracy is 50% or greater, run the model on all the data in the next section."
   ]
  },
  {
   "cell_type": "code",
   "execution_count": 11,
   "metadata": {},
   "outputs": [
    {
     "name": "stdout",
     "output_type": "stream",
     "text": [
      "Checking the Training on a Single Batch...\n",
      "Epoch  1, CIFAR-10 Batch 1:  cost:2.202422618865967\n",
      "acc:0.1967821717262268\n",
      "Epoch  2, CIFAR-10 Batch 1:  cost:2.031846761703491\n",
      "acc:0.2933168113231659\n",
      "Epoch  3, CIFAR-10 Batch 1:  cost:1.9146428108215332\n",
      "acc:0.3391089141368866\n",
      "Epoch  4, CIFAR-10 Batch 1:  cost:1.8322278261184692\n",
      "acc:0.36262375116348267\n",
      "Epoch  5, CIFAR-10 Batch 1:  cost:1.784148097038269\n",
      "acc:0.3762376010417938\n",
      "Epoch  6, CIFAR-10 Batch 1:  cost:1.7374094724655151\n",
      "acc:0.39603960514068604\n",
      "Epoch  7, CIFAR-10 Batch 1:  cost:1.6913669109344482\n",
      "acc:0.40470296144485474\n",
      "Epoch  8, CIFAR-10 Batch 1:  cost:1.6596980094909668\n",
      "acc:0.42574256658554077\n",
      "Epoch  9, CIFAR-10 Batch 1:  cost:1.624956488609314\n",
      "acc:0.43440595269203186\n",
      "Epoch 10, CIFAR-10 Batch 1:  cost:1.581819772720337\n",
      "acc:0.44925737380981445\n",
      "Epoch 11, CIFAR-10 Batch 1:  cost:1.5555247068405151\n",
      "acc:0.4529702961444855\n",
      "Epoch 12, CIFAR-10 Batch 1:  cost:1.5474227666854858\n",
      "acc:0.4727723002433777\n",
      "Epoch 13, CIFAR-10 Batch 1:  cost:1.5050952434539795\n",
      "acc:0.47648513317108154\n",
      "Epoch 14, CIFAR-10 Batch 1:  cost:1.4874390363693237\n",
      "acc:0.4740098714828491\n",
      "Epoch 15, CIFAR-10 Batch 1:  cost:1.4691392183303833\n",
      "acc:0.46658411622047424\n",
      "Epoch 16, CIFAR-10 Batch 1:  cost:1.4504458904266357\n",
      "acc:0.4801979959011078\n",
      "Epoch 17, CIFAR-10 Batch 1:  cost:1.4264103174209595\n",
      "acc:0.49381187558174133\n",
      "Epoch 18, CIFAR-10 Batch 1:  cost:1.4260413646697998\n",
      "acc:0.49257421493530273\n",
      "Epoch 19, CIFAR-10 Batch 1:  cost:1.3940000534057617\n",
      "acc:0.5148515105247498\n",
      "Epoch 20, CIFAR-10 Batch 1:  cost:1.385328769683838\n",
      "acc:0.5099009871482849\n"
     ]
    }
   ],
   "source": [
    "\"\"\"\n",
    "DON'T MODIFY ANYTHING IN THIS CELL\n",
    "\"\"\"\n",
    "print('Checking the Training on a Single Batch...')\n",
    "with tf.Session() as sess:\n",
    "    # Initializing the variables\n",
    "    sess.run(tf.global_variables_initializer())\n",
    "    \n",
    "    # Training cycle\n",
    "    for epoch in range(epochs):\n",
    "        batch_i = 1\n",
    "        for batch_features, batch_labels in helper.load_preprocess_training_batch(batch_i, batch_size):\n",
    "            train_neural_network(sess, optimizer, keep_probability, batch_features, batch_labels)\n",
    "        print('Epoch {:>2}, CIFAR-10 Batch {}:  '.format(epoch + 1, batch_i), end='')\n",
    "        print_stats(sess, batch_features, batch_labels, cost, accuracy)"
   ]
  },
  {
   "cell_type": "markdown",
   "metadata": {},
   "source": [
    "### Fully Train the Model\n",
    "Now that you got a good accuracy with a single CIFAR-10 batch, try it with all five batches."
   ]
  },
  {
   "cell_type": "code",
   "execution_count": 12,
   "metadata": {
    "scrolled": false
   },
   "outputs": [
    {
     "name": "stdout",
     "output_type": "stream",
     "text": [
      "Training...\n",
      "Epoch  1, CIFAR-10 Batch 1:  cost:2.0020194053649902\n",
      "acc:0.2846534550189972\n",
      "Epoch  1, CIFAR-10 Batch 2:  cost:1.8003817796707153\n",
      "acc:0.35396039485931396\n",
      "Epoch  1, CIFAR-10 Batch 3:  cost:1.7405812740325928\n",
      "acc:0.35148513317108154\n",
      "Epoch  1, CIFAR-10 Batch 4:  cost:1.650970220565796\n",
      "acc:0.4096534848213196\n",
      "Epoch  1, CIFAR-10 Batch 5:  cost:1.6438276767730713\n",
      "acc:0.429455429315567\n",
      "Epoch  2, CIFAR-10 Batch 1:  cost:1.5870670080184937\n",
      "acc:0.448019802570343\n",
      "Epoch  2, CIFAR-10 Batch 2:  cost:1.53075110912323\n",
      "acc:0.46039605140686035\n",
      "Epoch  2, CIFAR-10 Batch 3:  cost:1.4656741619110107\n",
      "acc:0.47524750232696533\n",
      "Epoch  2, CIFAR-10 Batch 4:  cost:1.4413789510726929\n",
      "acc:0.4900990128517151\n",
      "Epoch  2, CIFAR-10 Batch 5:  cost:1.4514732360839844\n",
      "acc:0.5061880946159363\n",
      "Epoch  3, CIFAR-10 Batch 1:  cost:1.4022892713546753\n",
      "acc:0.5160890817642212\n",
      "Epoch  3, CIFAR-10 Batch 2:  cost:1.3939765691757202\n",
      "acc:0.5173267126083374\n",
      "Epoch  3, CIFAR-10 Batch 3:  cost:1.3448007106781006\n",
      "acc:0.5061880350112915\n",
      "Epoch  3, CIFAR-10 Batch 4:  cost:1.3283332586288452\n",
      "acc:0.5321781635284424\n",
      "Epoch  3, CIFAR-10 Batch 5:  cost:1.3408640623092651\n",
      "acc:0.5408415794372559\n",
      "Epoch  4, CIFAR-10 Batch 1:  cost:1.3091347217559814\n",
      "acc:0.5408416390419006\n",
      "Epoch  4, CIFAR-10 Batch 2:  cost:1.310999870300293\n",
      "acc:0.535891056060791\n",
      "Epoch  4, CIFAR-10 Batch 3:  cost:1.2828296422958374\n",
      "acc:0.5433168411254883\n",
      "Epoch  4, CIFAR-10 Batch 4:  cost:1.2595175504684448\n",
      "acc:0.5581682920455933\n",
      "Epoch  4, CIFAR-10 Batch 5:  cost:1.2810505628585815\n",
      "acc:0.556930661201477\n",
      "Epoch  5, CIFAR-10 Batch 1:  cost:1.2474126815795898\n",
      "acc:0.5594059228897095\n",
      "Epoch  5, CIFAR-10 Batch 2:  cost:1.2616618871688843\n",
      "acc:0.5532177686691284\n",
      "Epoch  5, CIFAR-10 Batch 3:  cost:1.2027915716171265\n",
      "acc:0.5655940771102905\n",
      "Epoch  5, CIFAR-10 Batch 4:  cost:1.19734525680542\n",
      "acc:0.5866336822509766\n",
      "Epoch  5, CIFAR-10 Batch 5:  cost:1.2210654020309448\n",
      "acc:0.5829207897186279\n",
      "Epoch  6, CIFAR-10 Batch 1:  cost:1.1932933330535889\n",
      "acc:0.5928217172622681\n",
      "Epoch  6, CIFAR-10 Batch 2:  cost:1.212202548980713\n",
      "acc:0.5878711938858032\n",
      "Epoch  6, CIFAR-10 Batch 3:  cost:1.1509102582931519\n",
      "acc:0.6002475023269653\n",
      "Epoch  6, CIFAR-10 Batch 4:  cost:1.1648976802825928\n",
      "acc:0.5965346097946167\n",
      "Epoch  6, CIFAR-10 Batch 5:  cost:1.168818712234497\n",
      "acc:0.5952970385551453\n",
      "Epoch  7, CIFAR-10 Batch 1:  cost:1.170564889907837\n",
      "acc:0.6027227640151978\n",
      "Epoch  7, CIFAR-10 Batch 2:  cost:1.1706461906433105\n",
      "acc:0.5903465151786804\n",
      "Epoch  7, CIFAR-10 Batch 3:  cost:1.1099519729614258\n",
      "acc:0.6126237511634827\n",
      "Epoch  7, CIFAR-10 Batch 4:  cost:1.1286007165908813\n",
      "acc:0.6175742745399475\n",
      "Epoch  7, CIFAR-10 Batch 5:  cost:1.1207600831985474\n",
      "acc:0.6200495362281799\n",
      "Epoch  8, CIFAR-10 Batch 1:  cost:1.144434928894043\n",
      "acc:0.610148549079895\n",
      "Epoch  8, CIFAR-10 Batch 2:  cost:1.1249946355819702\n",
      "acc:0.618811845779419\n",
      "Epoch  8, CIFAR-10 Batch 3:  cost:1.0934826135635376\n",
      "acc:0.6163366436958313\n",
      "Epoch  8, CIFAR-10 Batch 4:  cost:1.0848770141601562\n",
      "acc:0.6373762488365173\n",
      "Epoch  8, CIFAR-10 Batch 5:  cost:1.0873583555221558\n",
      "acc:0.6410890817642212\n",
      "Epoch  9, CIFAR-10 Batch 1:  cost:1.0969147682189941\n",
      "acc:0.6287128329277039\n",
      "Epoch  9, CIFAR-10 Batch 2:  cost:1.1006081104278564\n",
      "acc:0.6349009275436401\n",
      "Epoch  9, CIFAR-10 Batch 3:  cost:1.040366530418396\n",
      "acc:0.639851450920105\n",
      "Epoch  9, CIFAR-10 Batch 4:  cost:1.0691862106323242\n",
      "acc:0.639851450920105\n",
      "Epoch  9, CIFAR-10 Batch 5:  cost:1.044933557510376\n",
      "acc:0.6571781635284424\n",
      "Epoch 10, CIFAR-10 Batch 1:  cost:1.0734455585479736\n",
      "acc:0.6410890817642212\n",
      "Epoch 10, CIFAR-10 Batch 2:  cost:1.0778818130493164\n",
      "acc:0.6311880946159363\n",
      "Epoch 10, CIFAR-10 Batch 3:  cost:1.020909309387207\n",
      "acc:0.6658415794372559\n",
      "Epoch 10, CIFAR-10 Batch 4:  cost:1.0335286855697632\n",
      "acc:0.6559405326843262\n",
      "Epoch 10, CIFAR-10 Batch 5:  cost:1.0058586597442627\n",
      "acc:0.6534653306007385\n",
      "Epoch 11, CIFAR-10 Batch 1:  cost:1.0593574047088623\n",
      "acc:0.6571782231330872\n",
      "Epoch 11, CIFAR-10 Batch 2:  cost:1.0511131286621094\n",
      "acc:0.6485148668289185\n",
      "Epoch 11, CIFAR-10 Batch 3:  cost:0.9943761229515076\n",
      "acc:0.6757425665855408\n",
      "Epoch 11, CIFAR-10 Batch 4:  cost:1.002399206161499\n",
      "acc:0.6584158539772034\n",
      "Epoch 11, CIFAR-10 Batch 5:  cost:0.9723315238952637\n",
      "acc:0.681930661201477\n",
      "Epoch 12, CIFAR-10 Batch 1:  cost:1.0351839065551758\n",
      "acc:0.6497524976730347\n",
      "Epoch 12, CIFAR-10 Batch 2:  cost:1.0324058532714844\n",
      "acc:0.6584157943725586\n",
      "Epoch 12, CIFAR-10 Batch 3:  cost:0.9653691053390503\n",
      "acc:0.6658415198326111\n",
      "Epoch 12, CIFAR-10 Batch 4:  cost:0.9851698875427246\n",
      "acc:0.6794553995132446\n",
      "Epoch 12, CIFAR-10 Batch 5:  cost:0.9529213309288025\n",
      "acc:0.6905940175056458\n",
      "Epoch 13, CIFAR-10 Batch 1:  cost:1.006626844406128\n",
      "acc:0.6695544719696045\n",
      "Epoch 13, CIFAR-10 Batch 2:  cost:1.0100886821746826\n",
      "acc:0.6745049953460693\n",
      "Epoch 13, CIFAR-10 Batch 3:  cost:0.946025013923645\n",
      "acc:0.6844059228897095\n",
      "Epoch 13, CIFAR-10 Batch 4:  cost:0.960773766040802\n",
      "acc:0.6794554591178894\n",
      "Epoch 13, CIFAR-10 Batch 5:  cost:0.9212928414344788\n",
      "acc:0.6992573738098145\n",
      "Epoch 14, CIFAR-10 Batch 1:  cost:0.9910258054733276\n",
      "acc:0.6732673645019531\n",
      "Epoch 14, CIFAR-10 Batch 2:  cost:0.9803145527839661\n",
      "acc:0.6707921028137207\n",
      "Epoch 14, CIFAR-10 Batch 3:  cost:0.9257301092147827\n",
      "acc:0.6844059228897095\n",
      "Epoch 14, CIFAR-10 Batch 4:  cost:0.9425532817840576\n",
      "acc:0.6844059228897095\n",
      "Epoch 14, CIFAR-10 Batch 5:  cost:0.9133861064910889\n",
      "acc:0.6992573738098145\n",
      "Epoch 15, CIFAR-10 Batch 1:  cost:0.9576332569122314\n",
      "acc:0.6905940771102905\n",
      "Epoch 15, CIFAR-10 Batch 2:  cost:0.9634734988212585\n",
      "acc:0.6868811845779419\n",
      "Epoch 15, CIFAR-10 Batch 3:  cost:0.9019924998283386\n",
      "acc:0.7079207897186279\n",
      "Epoch 15, CIFAR-10 Batch 4:  cost:0.9178810119628906\n",
      "acc:0.6992574334144592\n",
      "Epoch 15, CIFAR-10 Batch 5:  cost:0.8784931898117065\n",
      "acc:0.7190594673156738\n",
      "Epoch 16, CIFAR-10 Batch 1:  cost:0.943734884262085\n",
      "acc:0.681930661201477\n",
      "Epoch 16, CIFAR-10 Batch 2:  cost:0.9443976879119873\n",
      "acc:0.6893564462661743\n",
      "Epoch 16, CIFAR-10 Batch 3:  cost:0.8777989149093628\n",
      "acc:0.72029709815979\n",
      "Epoch 16, CIFAR-10 Batch 4:  cost:0.8935948610305786\n",
      "acc:0.7103960514068604\n",
      "Epoch 16, CIFAR-10 Batch 5:  cost:0.8552478551864624\n",
      "acc:0.7252475619316101\n",
      "Epoch 17, CIFAR-10 Batch 1:  cost:0.922541081905365\n",
      "acc:0.6955445408821106\n",
      "Epoch 17, CIFAR-10 Batch 2:  cost:0.9337043762207031\n",
      "acc:0.6806930899620056\n",
      "Epoch 17, CIFAR-10 Batch 3:  cost:0.8623261451721191\n",
      "acc:0.7277227640151978\n",
      "Epoch 17, CIFAR-10 Batch 4:  cost:0.8703834414482117\n",
      "acc:0.7141088843345642\n",
      "Epoch 17, CIFAR-10 Batch 5:  cost:0.8422797322273254\n",
      "acc:0.7339109182357788\n",
      "Epoch 18, CIFAR-10 Batch 1:  cost:0.8932777643203735\n",
      "acc:0.6967822313308716\n",
      "Epoch 18, CIFAR-10 Batch 2:  cost:0.9103145599365234\n",
      "acc:0.6955446004867554\n",
      "Epoch 18, CIFAR-10 Batch 3:  cost:0.8436468243598938\n",
      "acc:0.7413365840911865\n",
      "Epoch 18, CIFAR-10 Batch 4:  cost:0.8517820835113525\n",
      "acc:0.719059407711029\n",
      "Epoch 18, CIFAR-10 Batch 5:  cost:0.8186372518539429\n",
      "acc:0.7339109182357788\n",
      "Epoch 19, CIFAR-10 Batch 1:  cost:0.8796572685241699\n",
      "acc:0.7079207897186279\n",
      "Epoch 19, CIFAR-10 Batch 2:  cost:0.8980496525764465\n",
      "acc:0.719059407711029\n",
      "Epoch 19, CIFAR-10 Batch 3:  cost:0.8269608616828918\n",
      "acc:0.728960394859314\n",
      "Epoch 19, CIFAR-10 Batch 4:  cost:0.8357198238372803\n",
      "acc:0.7202969789505005\n",
      "Epoch 19, CIFAR-10 Batch 5:  cost:0.7994444370269775\n",
      "acc:0.7462871074676514\n",
      "Epoch 20, CIFAR-10 Batch 1:  cost:0.855938732624054\n",
      "acc:0.714108943939209\n",
      "Epoch 20, CIFAR-10 Batch 2:  cost:0.8748735189437866\n",
      "acc:0.7252475619316101\n",
      "Epoch 20, CIFAR-10 Batch 3:  cost:0.8072870969772339\n",
      "acc:0.7462871074676514\n",
      "Epoch 20, CIFAR-10 Batch 4:  cost:0.8267823457717896\n",
      "acc:0.7301979660987854\n",
      "Epoch 20, CIFAR-10 Batch 5:  cost:0.7801001071929932\n",
      "acc:0.7698019742965698\n"
     ]
    }
   ],
   "source": [
    "\"\"\"\n",
    "DON'T MODIFY ANYTHING IN THIS CELL\n",
    "\"\"\"\n",
    "save_model_path = './image_classification'\n",
    "\n",
    "print('Training...')\n",
    "with tf.Session() as sess:\n",
    "    # Initializing the variables\n",
    "    sess.run(tf.global_variables_initializer())\n",
    "    \n",
    "    # Training cycle\n",
    "    for epoch in range(epochs):\n",
    "        # Loop over all batches\n",
    "        n_batches = 5\n",
    "        for batch_i in range(1, n_batches + 1):\n",
    "            for batch_features, batch_labels in helper.load_preprocess_training_batch(batch_i, batch_size):\n",
    "                train_neural_network(sess, optimizer, keep_probability, batch_features, batch_labels)\n",
    "            print('Epoch {:>2}, CIFAR-10 Batch {}:  '.format(epoch + 1, batch_i), end='')\n",
    "            print_stats(sess, batch_features, batch_labels, cost, accuracy)\n",
    "            \n",
    "    # Save Model\n",
    "    saver = tf.train.Saver()\n",
    "    save_path = saver.save(sess, save_model_path)"
   ]
  },
  {
   "cell_type": "markdown",
   "metadata": {},
   "source": [
    "# Checkpoint\n",
    "The model has been saved to disk.\n",
    "## Test Model\n",
    "Test your model against the test dataset.  This will be your final accuracy. You should have an accuracy greater than 50%. If you don't, keep tweaking the model architecture and parameters."
   ]
  },
  {
   "cell_type": "code",
   "execution_count": 13,
   "metadata": {},
   "outputs": [
    {
     "name": "stdout",
     "output_type": "stream",
     "text": [
      "Testing Accuracy: 0.6545579552650451\n",
      "\n"
     ]
    },
    {
     "data": {
      "image/png": "[encoded data removed]",
      "text/plain": [
       "<matplotlib.figure.Figure at 0x7f6486fdeeb8>"
      ]
     },
     "metadata": {
      "image/png": {
       "height": 319,
       "width": 355
      }
     },
     "output_type": "display_data"
    }
   ],
   "source": [
    "\"\"\"\n",
    "DON'T MODIFY ANYTHING IN THIS CELL\n",
    "\"\"\"\n",
    "%matplotlib inline\n",
    "%config InlineBackend.figure_format = 'retina'\n",
    "\n",
    "import tensorflow as tf\n",
    "import pickle\n",
    "import helper\n",
    "import random\n",
    "\n",
    "# Set batch size if not already set\n",
    "try:\n",
    "    if batch_size:\n",
    "        pass\n",
    "except NameError:\n",
    "    batch_size = 64\n",
    "\n",
    "save_model_path = './image_classification'\n",
    "n_samples = 4\n",
    "top_n_predictions = 3\n",
    "\n",
    "def test_model():\n",
    "    \"\"\"\n",
    "    Test the saved model against the test dataset\n",
    "    \"\"\"\n",
    "\n",
    "    test_features, test_labels = pickle.load(open('preprocess_test.p', mode='rb'))\n",
    "    loaded_graph = tf.Graph()\n",
    "\n",
    "    with tf.Session(graph=loaded_graph) as sess:\n",
    "        # Load model\n",
    "        loader = tf.train.import_meta_graph(save_model_path + '.meta')\n",
    "        loader.restore(sess, save_model_path)\n",
    "\n",
    "        # Get Tensors from loaded model\n",
    "        loaded_x = loaded_graph.get_tensor_by_name('x:0')\n",
    "        loaded_y = loaded_graph.get_tensor_by_name('y:0')\n",
    "        loaded_keep_prob = loaded_graph.get_tensor_by_name('keep_prob:0')\n",
    "        loaded_logits = loaded_graph.get_tensor_by_name('logits:0')\n",
    "        loaded_acc = loaded_graph.get_tensor_by_name('accuracy:0')\n",
    "        \n",
    "        # Get accuracy in batches for memory limitations\n",
    "        test_batch_acc_total = 0\n",
    "        test_batch_count = 0\n",
    "        \n",
    "        for test_feature_batch, test_label_batch in helper.batch_features_labels(test_features, test_labels, batch_size):\n",
    "            test_batch_acc_total += sess.run(\n",
    "                loaded_acc,\n",
    "                feed_dict={loaded_x: test_feature_batch, loaded_y: test_label_batch, loaded_keep_prob: 1.0})\n",
    "            test_batch_count += 1\n",
    "\n",
    "        print('Testing Accuracy: {}\\n'.format(test_batch_acc_total/test_batch_count))\n",
    "\n",
    "        # Print Random Samples\n",
    "        random_test_features, random_test_labels = tuple(zip(*random.sample(list(zip(test_features, test_labels)), n_samples)))\n",
    "        random_test_predictions = sess.run(\n",
    "            tf.nn.top_k(tf.nn.softmax(loaded_logits), top_n_predictions),\n",
    "            feed_dict={loaded_x: random_test_features, loaded_y: random_test_labels, loaded_keep_prob: 1.0})\n",
    "        helper.display_image_predictions(random_test_features, random_test_labels, random_test_predictions)\n",
    "\n",
    "\n",
    "test_model()"
   ]
  },
  {
   "cell_type": "markdown",
   "metadata": {},
   "source": [
    "## Why 50-80% Accuracy?\n",
    "You might be wondering why you can't get an accuracy any higher. First things first, 50% isn't bad for a simple CNN.  Pure guessing would get you 10% accuracy. However, you might notice people are getting scores [well above 80%](http://rodrigob.github.io/are_we_there_yet/build/classification_datasets_results.html#43494641522d3130).  That's because we haven't taught you all there is to know about neural networks. We still need to cover a few more techniques.\n",
    "## Submitting This Project\n",
    "When submitting this project, make sure to run all the cells before saving the notebook.  Save the notebook file as \"dlnd_image_classification.ipynb\" and save it as a HTML file under \"File\" -> \"Download as\".  Include the \"helper.py\" and \"problem_unittests.py\" files in your submission."
   ]
  }
 ],
 "metadata": {
  "kernelspec": {
   "display_name": "Python 3",
   "language": "python",
   "name": "python3"
  },
  "language_info": {
   "codemirror_mode": {
    "name": "ipython",
    "version": 3
   },
   "file_extension": ".py",
   "mimetype": "text/x-python",
   "name": "python",
   "nbconvert_exporter": "python",
   "pygments_lexer": "ipython3",
   "version": "3.6.1"
  },
  "widgets": {
   "state": {},
   "version": "1.1.2"
  }
 },
 "nbformat": 4,
 "nbformat_minor": 1
}
